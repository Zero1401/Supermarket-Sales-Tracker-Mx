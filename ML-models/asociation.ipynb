{
 "cells": [
  {
   "cell_type": "markdown",
   "metadata": {},
   "source": [
    "## Caso de Negocio"
   ]
  },
  {
   "cell_type": "markdown",
   "metadata": {},
   "source": [
    "A una empresa vendedora de bebidas le interesa conocer las ventas que más frecuentan los consumidores al momento de comprar un refresco de la MARCA Coca-Cola, por ende nos fijamos en los pedidos que llevan consigo algún producto o dervidao de Coca-Cola, así como en sus pedidos sean mayores a la media de los productos comprados.​"
   ]
  },
  {
   "cell_type": "markdown",
   "metadata": {},
   "source": [
    "### Preparación de Ambiente"
   ]
  },
  {
   "cell_type": "code",
   "execution_count": 219,
   "metadata": {},
   "outputs": [],
   "source": [
    "import pandas as pd\n",
    "import numpy as np\n",
    "import matplotlib.pyplot as plt\n",
    "import seaborn as sns\n",
    "from sklearn.model_selection import train_test_split\n",
    "from collections import defaultdict\n",
    "import pandas as pd\n",
    "from mlxtend.frequent_patterns import apriori, association_rules\n"
   ]
  },
  {
   "cell_type": "markdown",
   "metadata": {},
   "source": [
    "### Cargar Dataframe"
   ]
  },
  {
   "cell_type": "code",
   "execution_count": 220,
   "metadata": {},
   "outputs": [],
   "source": [
    "df = pd.read_csv('data/ventas_bebidas.csv', encoding='latin-1')"
   ]
  },
  {
   "cell_type": "markdown",
   "metadata": {},
   "source": [
    "### Limpieza y Transformación de Datos"
   ]
  },
  {
   "cell_type": "code",
   "execution_count": 221,
   "metadata": {},
   "outputs": [],
   "source": [
    "df.columns = df.columns.str.lower()\n",
    "columns_to_drop = ['producto', 'producto_desc', 'monto' , 'precio_unidad', 'contador', 'segmento']\n",
    "df.drop(columns=columns_to_drop,inplace=True)"
   ]
  },
  {
   "cell_type": "code",
   "execution_count": 222,
   "metadata": {},
   "outputs": [],
   "source": [
    "df['fecha'] = pd.to_datetime(df['fecha'], format='%d-%m-%y')\n",
    "\n",
    "def obtener_estacion(fecha):\n",
    "    mes = fecha.month\n",
    "    dia = fecha.day\n",
    "\n",
    "    # Invierno: 21 diciembre a 20 marzo\n",
    "    if (mes == 12 and dia >= 21) or mes in [1, 2] or (mes == 3 and dia <= 20):\n",
    "        return 'Invierno'\n",
    "    # Primavera: 21 marzo a 20 junio\n",
    "    elif (mes == 3 and dia >= 21) or mes in [4, 5] or (mes == 6 and dia <= 20):\n",
    "        return 'Primavera'\n",
    "    # Verano: 21 junio a 22 septiembre\n",
    "    elif (mes == 6 and dia >= 21) or mes in [7, 8] or (mes == 9 and dia <= 22):\n",
    "        return 'Verano'\n",
    "    # Otoño: 23 septiembre a 20 diciembre\n",
    "    elif (mes == 9 and dia >= 23) or mes in [10, 11] or (mes == 12 and dia <= 20):\n",
    "        return 'Otoño'\n",
    "\n",
    "df['estacion'] = df['fecha'].apply(obtener_estacion)\n",
    "\n",
    "df.drop(columns=['fecha'], inplace=True)"
   ]
  },
  {
   "cell_type": "code",
   "execution_count": 223,
   "metadata": {},
   "outputs": [],
   "source": [
    "def categorizar_temperatura(temp):\n",
    "    if temp < 15:\n",
    "        return 'Frío'\n",
    "    elif 15 <= temp < 25:\n",
    "        return 'Templado'\n",
    "    elif 25 <= temp < 35:\n",
    "        return 'Cálido'\n",
    "    else:\n",
    "        return 'Muy Cálido'  \n",
    "\n",
    "df['clima'] = df['prom_temperatura'].apply(categorizar_temperatura)\n",
    "\n",
    "df.drop(columns=['prom_temperatura'], inplace=True)"
   ]
  },
  {
   "cell_type": "code",
   "execution_count": 224,
   "metadata": {},
   "outputs": [],
   "source": [
    "def categorizar_unidades(unidades):\n",
    "    if unidades <= 50:\n",
    "        return 'poco'\n",
    "    elif 51 <= unidades <= 200:\n",
    "        return 'moderado'\n",
    "    else:\n",
    "        return 'mucho'\n",
    "\n",
    "df['cat_unidades'] = df['unidades'].apply(categorizar_unidades)\n",
    "\n",
    "df.drop(columns=['unidades'], inplace=True)"
   ]
  },
  {
   "cell_type": "code",
   "execution_count": 225,
   "metadata": {},
   "outputs": [],
   "source": [
    "tienda_cat = defaultdict()\n",
    "for i, tienda in enumerate(df['tienda'].unique(), start=1):\n",
    "    tienda_cat[tienda] = f'Tienda {i}'\n",
    "\n",
    "df['tienda'] = df['tienda'].replace(tienda_cat)"
   ]
  },
  {
   "cell_type": "markdown",
   "metadata": {},
   "source": [
    "### Selección de Variables"
   ]
  },
  {
   "cell_type": "code",
   "execution_count": 226,
   "metadata": {},
   "outputs": [
    {
     "data": {
      "text/html": [
       "<div>\n",
       "<style scoped>\n",
       "    .dataframe tbody tr th:only-of-type {\n",
       "        vertical-align: middle;\n",
       "    }\n",
       "\n",
       "    .dataframe tbody tr th {\n",
       "        vertical-align: top;\n",
       "    }\n",
       "\n",
       "    .dataframe thead th {\n",
       "        text-align: right;\n",
       "    }\n",
       "</style>\n",
       "<table border=\"1\" class=\"dataframe\">\n",
       "  <thead>\n",
       "    <tr style=\"text-align: right;\">\n",
       "      <th></th>\n",
       "      <th>pedido</th>\n",
       "      <th>tienda</th>\n",
       "      <th>sabor</th>\n",
       "      <th>marca</th>\n",
       "      <th>segmento_desc</th>\n",
       "      <th>municipio</th>\n",
       "      <th>estacion</th>\n",
       "      <th>clima</th>\n",
       "      <th>cat_unidades</th>\n",
       "    </tr>\n",
       "  </thead>\n",
       "  <tbody>\n",
       "    <tr>\n",
       "      <th>0</th>\n",
       "      <td>1000244507</td>\n",
       "      <td>Tienda 1</td>\n",
       "      <td>MANZANA</td>\n",
       "      <td>DEL VALLE</td>\n",
       "      <td>EXTRA GRANDE BAJO AUDITABLE</td>\n",
       "      <td>GUADALUPE</td>\n",
       "      <td>Verano</td>\n",
       "      <td>Cálido</td>\n",
       "      <td>poco</td>\n",
       "    </tr>\n",
       "    <tr>\n",
       "      <th>1</th>\n",
       "      <td>1000242608</td>\n",
       "      <td>Tienda 1</td>\n",
       "      <td>MANGO</td>\n",
       "      <td>DEL VALLE</td>\n",
       "      <td>EXTRA GRANDE BAJO AUDITABLE</td>\n",
       "      <td>GUADALUPE</td>\n",
       "      <td>Verano</td>\n",
       "      <td>Cálido</td>\n",
       "      <td>poco</td>\n",
       "    </tr>\n",
       "    <tr>\n",
       "      <th>2</th>\n",
       "      <td>1000250602</td>\n",
       "      <td>Tienda 2</td>\n",
       "      <td>MANGO</td>\n",
       "      <td>DEL VALLE</td>\n",
       "      <td>MEDIANO BAJO AUDITABLE</td>\n",
       "      <td>SAN NICOLAS DE LOS GZA</td>\n",
       "      <td>Verano</td>\n",
       "      <td>Cálido</td>\n",
       "      <td>poco</td>\n",
       "    </tr>\n",
       "    <tr>\n",
       "      <th>3</th>\n",
       "      <td>1000239117</td>\n",
       "      <td>Tienda 3</td>\n",
       "      <td>MANGO</td>\n",
       "      <td>DEL VALLE</td>\n",
       "      <td>GRANDE BAJO AUDITABLE</td>\n",
       "      <td>SAN NICOLAS DE LOS GZA</td>\n",
       "      <td>Verano</td>\n",
       "      <td>Cálido</td>\n",
       "      <td>poco</td>\n",
       "    </tr>\n",
       "    <tr>\n",
       "      <th>4</th>\n",
       "      <td>1000244507</td>\n",
       "      <td>Tienda 1</td>\n",
       "      <td>MANGO</td>\n",
       "      <td>DEL VALLE</td>\n",
       "      <td>EXTRA GRANDE BAJO AUDITABLE</td>\n",
       "      <td>GUADALUPE</td>\n",
       "      <td>Verano</td>\n",
       "      <td>Cálido</td>\n",
       "      <td>poco</td>\n",
       "    </tr>\n",
       "  </tbody>\n",
       "</table>\n",
       "</div>"
      ],
      "text/plain": [
       "       pedido    tienda    sabor      marca                segmento_desc  \\\n",
       "0  1000244507  Tienda 1  MANZANA  DEL VALLE  EXTRA GRANDE BAJO AUDITABLE   \n",
       "1  1000242608  Tienda 1    MANGO  DEL VALLE  EXTRA GRANDE BAJO AUDITABLE   \n",
       "2  1000250602  Tienda 2    MANGO  DEL VALLE       MEDIANO BAJO AUDITABLE   \n",
       "3  1000239117  Tienda 3    MANGO  DEL VALLE        GRANDE BAJO AUDITABLE   \n",
       "4  1000244507  Tienda 1    MANGO  DEL VALLE  EXTRA GRANDE BAJO AUDITABLE   \n",
       "\n",
       "                municipio estacion   clima cat_unidades  \n",
       "0               GUADALUPE   Verano  Cálido         poco  \n",
       "1               GUADALUPE   Verano  Cálido         poco  \n",
       "2  SAN NICOLAS DE LOS GZA   Verano  Cálido         poco  \n",
       "3  SAN NICOLAS DE LOS GZA   Verano  Cálido         poco  \n",
       "4               GUADALUPE   Verano  Cálido         poco  "
      ]
     },
     "execution_count": 226,
     "metadata": {},
     "output_type": "execute_result"
    }
   ],
   "source": [
    "df.head()"
   ]
  },
  {
   "cell_type": "code",
   "execution_count": 227,
   "metadata": {},
   "outputs": [],
   "source": [
    "df['marca_estacion'] = df['marca'] +' - '+ df['estacion']\n",
    "df['marca_clima'] = df['marca'] + ' - ' + df['clima']\n",
    "df['marca_cat'] = df['marca'] + ' - ' + df['cat_unidades']"
   ]
  },
  {
   "cell_type": "markdown",
   "metadata": {},
   "source": [
    "## Aprori\n"
   ]
  },
  {
   "cell_type": "markdown",
   "metadata": {},
   "source": [
    "### Situación 1:"
   ]
  },
  {
   "cell_type": "code",
   "execution_count": 229,
   "metadata": {},
   "outputs": [
    {
     "name": "stderr",
     "output_type": "stream",
     "text": [
      "g:\\Supermarket-Sales-Tracker-Mx\\.venv\\Lib\\site-packages\\mlxtend\\frequent_patterns\\fpcommon.py:109: DeprecationWarning: DataFrames with non-bool types result in worse computationalperformance and their support might be discontinued in the future.Please use a DataFrame with bool type\n",
      "  warnings.warn(\n"
     ]
    }
   ],
   "source": [
    "basket = df.pivot_table(index=['pedido'], columns='marca_estacion', aggfunc='size', fill_value=0)\n",
    "basket = (basket > 0).astype(int)\n",
    "\n",
    "# Aplicar el algoritmo Apriori\n",
    "frequent_itemsets = apriori(basket, min_support=0.21, use_colnames=True)"
   ]
  },
  {
   "cell_type": "code",
   "execution_count": 230,
   "metadata": {},
   "outputs": [],
   "source": [
    "# Generar reglas de asociación\n",
    "rules = association_rules(frequent_itemsets, metric=\"confidence\", min_threshold=0.5)"
   ]
  },
  {
   "cell_type": "code",
   "execution_count": 231,
   "metadata": {},
   "outputs": [
    {
     "data": {
      "text/html": [
       "<div>\n",
       "<style scoped>\n",
       "    .dataframe tbody tr th:only-of-type {\n",
       "        vertical-align: middle;\n",
       "    }\n",
       "\n",
       "    .dataframe tbody tr th {\n",
       "        vertical-align: top;\n",
       "    }\n",
       "\n",
       "    .dataframe thead th {\n",
       "        text-align: right;\n",
       "    }\n",
       "</style>\n",
       "<table border=\"1\" class=\"dataframe\">\n",
       "  <thead>\n",
       "    <tr style=\"text-align: right;\">\n",
       "      <th></th>\n",
       "      <th>antecedents</th>\n",
       "      <th>consequents</th>\n",
       "      <th>antecedent support</th>\n",
       "      <th>consequent support</th>\n",
       "      <th>support</th>\n",
       "      <th>confidence</th>\n",
       "      <th>lift</th>\n",
       "      <th>leverage</th>\n",
       "      <th>conviction</th>\n",
       "      <th>zhangs_metric</th>\n",
       "    </tr>\n",
       "  </thead>\n",
       "  <tbody>\n",
       "    <tr>\n",
       "      <th>0</th>\n",
       "      <td>(JOYA - Invierno)</td>\n",
       "      <td>(COCA-COLA - Invierno)</td>\n",
       "      <td>0.223679</td>\n",
       "      <td>0.263806</td>\n",
       "      <td>0.219309</td>\n",
       "      <td>0.980462</td>\n",
       "      <td>3.716600</td>\n",
       "      <td>0.160301</td>\n",
       "      <td>37.679741</td>\n",
       "      <td>0.941539</td>\n",
       "    </tr>\n",
       "    <tr>\n",
       "      <th>1</th>\n",
       "      <td>(COCA-COLA - Invierno)</td>\n",
       "      <td>(JOYA - Invierno)</td>\n",
       "      <td>0.263806</td>\n",
       "      <td>0.223679</td>\n",
       "      <td>0.219309</td>\n",
       "      <td>0.831325</td>\n",
       "      <td>3.716600</td>\n",
       "      <td>0.160301</td>\n",
       "      <td>4.602475</td>\n",
       "      <td>0.992859</td>\n",
       "    </tr>\n",
       "    <tr>\n",
       "      <th>2</th>\n",
       "      <td>(COCA-COLA LIGHT - Primavera)</td>\n",
       "      <td>(COCA-COLA - Primavera)</td>\n",
       "      <td>0.234803</td>\n",
       "      <td>0.275725</td>\n",
       "      <td>0.229241</td>\n",
       "      <td>0.976311</td>\n",
       "      <td>3.540887</td>\n",
       "      <td>0.164500</td>\n",
       "      <td>30.574749</td>\n",
       "      <td>0.937778</td>\n",
       "    </tr>\n",
       "    <tr>\n",
       "      <th>3</th>\n",
       "      <td>(COCA-COLA - Primavera)</td>\n",
       "      <td>(COCA-COLA LIGHT - Primavera)</td>\n",
       "      <td>0.275725</td>\n",
       "      <td>0.234803</td>\n",
       "      <td>0.229241</td>\n",
       "      <td>0.831412</td>\n",
       "      <td>3.540887</td>\n",
       "      <td>0.164500</td>\n",
       "      <td>4.538859</td>\n",
       "      <td>0.990763</td>\n",
       "    </tr>\n",
       "    <tr>\n",
       "      <th>4</th>\n",
       "      <td>(JOYA - Primavera)</td>\n",
       "      <td>(COCA-COLA - Primavera)</td>\n",
       "      <td>0.239968</td>\n",
       "      <td>0.275725</td>\n",
       "      <td>0.235598</td>\n",
       "      <td>0.981788</td>\n",
       "      <td>3.560750</td>\n",
       "      <td>0.169433</td>\n",
       "      <td>39.769278</td>\n",
       "      <td>0.946224</td>\n",
       "    </tr>\n",
       "    <tr>\n",
       "      <th>5</th>\n",
       "      <td>(COCA-COLA - Primavera)</td>\n",
       "      <td>(JOYA - Primavera)</td>\n",
       "      <td>0.275725</td>\n",
       "      <td>0.239968</td>\n",
       "      <td>0.235598</td>\n",
       "      <td>0.854467</td>\n",
       "      <td>3.560750</td>\n",
       "      <td>0.169433</td>\n",
       "      <td>5.222397</td>\n",
       "      <td>0.992938</td>\n",
       "    </tr>\n",
       "  </tbody>\n",
       "</table>\n",
       "</div>"
      ],
      "text/plain": [
       "                     antecedents                    consequents  \\\n",
       "0              (JOYA - Invierno)         (COCA-COLA - Invierno)   \n",
       "1         (COCA-COLA - Invierno)              (JOYA - Invierno)   \n",
       "2  (COCA-COLA LIGHT - Primavera)        (COCA-COLA - Primavera)   \n",
       "3        (COCA-COLA - Primavera)  (COCA-COLA LIGHT - Primavera)   \n",
       "4             (JOYA - Primavera)        (COCA-COLA - Primavera)   \n",
       "5        (COCA-COLA - Primavera)             (JOYA - Primavera)   \n",
       "\n",
       "   antecedent support  consequent support   support  confidence      lift  \\\n",
       "0            0.223679            0.263806  0.219309    0.980462  3.716600   \n",
       "1            0.263806            0.223679  0.219309    0.831325  3.716600   \n",
       "2            0.234803            0.275725  0.229241    0.976311  3.540887   \n",
       "3            0.275725            0.234803  0.229241    0.831412  3.540887   \n",
       "4            0.239968            0.275725  0.235598    0.981788  3.560750   \n",
       "5            0.275725            0.239968  0.235598    0.854467  3.560750   \n",
       "\n",
       "   leverage  conviction  zhangs_metric  \n",
       "0  0.160301   37.679741       0.941539  \n",
       "1  0.160301    4.602475       0.992859  \n",
       "2  0.164500   30.574749       0.937778  \n",
       "3  0.164500    4.538859       0.990763  \n",
       "4  0.169433   39.769278       0.946224  \n",
       "5  0.169433    5.222397       0.992938  "
      ]
     },
     "execution_count": 231,
     "metadata": {},
     "output_type": "execute_result"
    }
   ],
   "source": [
    "rules[:]"
   ]
  },
  {
   "cell_type": "markdown",
   "metadata": {},
   "source": [
    "### Situación 2"
   ]
  },
  {
   "cell_type": "code",
   "execution_count": 232,
   "metadata": {},
   "outputs": [
    {
     "name": "stderr",
     "output_type": "stream",
     "text": [
      "g:\\Supermarket-Sales-Tracker-Mx\\.venv\\Lib\\site-packages\\mlxtend\\frequent_patterns\\fpcommon.py:109: DeprecationWarning: DataFrames with non-bool types result in worse computationalperformance and their support might be discontinued in the future.Please use a DataFrame with bool type\n",
      "  warnings.warn(\n"
     ]
    }
   ],
   "source": [
    "basket = df.pivot_table(index=['pedido'], columns='marca_clima', aggfunc='size', fill_value=0)\n",
    "basket = (basket > 0).astype(int)\n",
    "\n",
    "# Aplicar el algoritmo Apriori\n",
    "frequent_itemsets = apriori(basket, min_support=0.43, use_colnames=True)"
   ]
  },
  {
   "cell_type": "code",
   "execution_count": 233,
   "metadata": {},
   "outputs": [
    {
     "data": {
      "text/html": [
       "<div>\n",
       "<style scoped>\n",
       "    .dataframe tbody tr th:only-of-type {\n",
       "        vertical-align: middle;\n",
       "    }\n",
       "\n",
       "    .dataframe tbody tr th {\n",
       "        vertical-align: top;\n",
       "    }\n",
       "\n",
       "    .dataframe thead th {\n",
       "        text-align: right;\n",
       "    }\n",
       "</style>\n",
       "<table border=\"1\" class=\"dataframe\">\n",
       "  <thead>\n",
       "    <tr style=\"text-align: right;\">\n",
       "      <th></th>\n",
       "      <th>support</th>\n",
       "      <th>itemsets</th>\n",
       "    </tr>\n",
       "  </thead>\n",
       "  <tbody>\n",
       "    <tr>\n",
       "      <th>0</th>\n",
       "      <td>0.546683</td>\n",
       "      <td>(COCA-COLA - Cálido)</td>\n",
       "    </tr>\n",
       "    <tr>\n",
       "      <th>1</th>\n",
       "      <td>0.477155</td>\n",
       "      <td>(COCA-COLA LIGHT - Cálido)</td>\n",
       "    </tr>\n",
       "    <tr>\n",
       "      <th>2</th>\n",
       "      <td>0.490663</td>\n",
       "      <td>(JOYA - Cálido)</td>\n",
       "    </tr>\n",
       "    <tr>\n",
       "      <th>3</th>\n",
       "      <td>0.463647</td>\n",
       "      <td>(COCA-COLA LIGHT - Cálido, COCA-COLA - Cálido)</td>\n",
       "    </tr>\n",
       "    <tr>\n",
       "      <th>4</th>\n",
       "      <td>0.481128</td>\n",
       "      <td>(JOYA - Cálido, COCA-COLA - Cálido)</td>\n",
       "    </tr>\n",
       "  </tbody>\n",
       "</table>\n",
       "</div>"
      ],
      "text/plain": [
       "    support                                        itemsets\n",
       "0  0.546683                            (COCA-COLA - Cálido)\n",
       "1  0.477155                      (COCA-COLA LIGHT - Cálido)\n",
       "2  0.490663                                 (JOYA - Cálido)\n",
       "3  0.463647  (COCA-COLA LIGHT - Cálido, COCA-COLA - Cálido)\n",
       "4  0.481128             (JOYA - Cálido, COCA-COLA - Cálido)"
      ]
     },
     "execution_count": 233,
     "metadata": {},
     "output_type": "execute_result"
    }
   ],
   "source": [
    "frequent_itemsets"
   ]
  },
  {
   "cell_type": "code",
   "execution_count": 234,
   "metadata": {},
   "outputs": [],
   "source": [
    "# Generar reglas de asociación\n",
    "rules = association_rules(frequent_itemsets, metric=\"confidence\", min_threshold=0.5)"
   ]
  },
  {
   "cell_type": "code",
   "execution_count": 235,
   "metadata": {},
   "outputs": [
    {
     "data": {
      "text/html": [
       "<div>\n",
       "<style scoped>\n",
       "    .dataframe tbody tr th:only-of-type {\n",
       "        vertical-align: middle;\n",
       "    }\n",
       "\n",
       "    .dataframe tbody tr th {\n",
       "        vertical-align: top;\n",
       "    }\n",
       "\n",
       "    .dataframe thead th {\n",
       "        text-align: right;\n",
       "    }\n",
       "</style>\n",
       "<table border=\"1\" class=\"dataframe\">\n",
       "  <thead>\n",
       "    <tr style=\"text-align: right;\">\n",
       "      <th></th>\n",
       "      <th>antecedents</th>\n",
       "      <th>consequents</th>\n",
       "      <th>antecedent support</th>\n",
       "      <th>consequent support</th>\n",
       "      <th>support</th>\n",
       "      <th>confidence</th>\n",
       "      <th>lift</th>\n",
       "      <th>leverage</th>\n",
       "      <th>conviction</th>\n",
       "      <th>zhangs_metric</th>\n",
       "    </tr>\n",
       "  </thead>\n",
       "  <tbody>\n",
       "    <tr>\n",
       "      <th>0</th>\n",
       "      <td>(COCA-COLA LIGHT - Cálido)</td>\n",
       "      <td>(COCA-COLA - Cálido)</td>\n",
       "      <td>0.477155</td>\n",
       "      <td>0.546683</td>\n",
       "      <td>0.463647</td>\n",
       "      <td>0.971690</td>\n",
       "      <td>1.777431</td>\n",
       "      <td>0.202795</td>\n",
       "      <td>16.012772</td>\n",
       "      <td>0.836558</td>\n",
       "    </tr>\n",
       "    <tr>\n",
       "      <th>1</th>\n",
       "      <td>(COCA-COLA - Cálido)</td>\n",
       "      <td>(COCA-COLA LIGHT - Cálido)</td>\n",
       "      <td>0.546683</td>\n",
       "      <td>0.477155</td>\n",
       "      <td>0.463647</td>\n",
       "      <td>0.848110</td>\n",
       "      <td>1.777431</td>\n",
       "      <td>0.202795</td>\n",
       "      <td>3.442269</td>\n",
       "      <td>0.964865</td>\n",
       "    </tr>\n",
       "    <tr>\n",
       "      <th>2</th>\n",
       "      <td>(JOYA - Cálido)</td>\n",
       "      <td>(COCA-COLA - Cálido)</td>\n",
       "      <td>0.490663</td>\n",
       "      <td>0.546683</td>\n",
       "      <td>0.481128</td>\n",
       "      <td>0.980567</td>\n",
       "      <td>1.793668</td>\n",
       "      <td>0.212891</td>\n",
       "      <td>23.326960</td>\n",
       "      <td>0.868744</td>\n",
       "    </tr>\n",
       "    <tr>\n",
       "      <th>3</th>\n",
       "      <td>(COCA-COLA - Cálido)</td>\n",
       "      <td>(JOYA - Cálido)</td>\n",
       "      <td>0.546683</td>\n",
       "      <td>0.490663</td>\n",
       "      <td>0.481128</td>\n",
       "      <td>0.880087</td>\n",
       "      <td>1.793668</td>\n",
       "      <td>0.212891</td>\n",
       "      <td>4.247558</td>\n",
       "      <td>0.976100</td>\n",
       "    </tr>\n",
       "  </tbody>\n",
       "</table>\n",
       "</div>"
      ],
      "text/plain": [
       "                  antecedents                 consequents  antecedent support  \\\n",
       "0  (COCA-COLA LIGHT - Cálido)        (COCA-COLA - Cálido)            0.477155   \n",
       "1        (COCA-COLA - Cálido)  (COCA-COLA LIGHT - Cálido)            0.546683   \n",
       "2             (JOYA - Cálido)        (COCA-COLA - Cálido)            0.490663   \n",
       "3        (COCA-COLA - Cálido)             (JOYA - Cálido)            0.546683   \n",
       "\n",
       "   consequent support   support  confidence      lift  leverage  conviction  \\\n",
       "0            0.546683  0.463647    0.971690  1.777431  0.202795   16.012772   \n",
       "1            0.477155  0.463647    0.848110  1.777431  0.202795    3.442269   \n",
       "2            0.546683  0.481128    0.980567  1.793668  0.212891   23.326960   \n",
       "3            0.490663  0.481128    0.880087  1.793668  0.212891    4.247558   \n",
       "\n",
       "   zhangs_metric  \n",
       "0       0.836558  \n",
       "1       0.964865  \n",
       "2       0.868744  \n",
       "3       0.976100  "
      ]
     },
     "execution_count": 235,
     "metadata": {},
     "output_type": "execute_result"
    }
   ],
   "source": [
    "rules"
   ]
  },
  {
   "cell_type": "markdown",
   "metadata": {},
   "source": [
    "### Situación 3"
   ]
  },
  {
   "cell_type": "code",
   "execution_count": 236,
   "metadata": {},
   "outputs": [
    {
     "name": "stderr",
     "output_type": "stream",
     "text": [
      "g:\\Supermarket-Sales-Tracker-Mx\\.venv\\Lib\\site-packages\\mlxtend\\frequent_patterns\\fpcommon.py:109: DeprecationWarning: DataFrames with non-bool types result in worse computationalperformance and their support might be discontinued in the future.Please use a DataFrame with bool type\n",
      "  warnings.warn(\n"
     ]
    }
   ],
   "source": [
    "basket = df.pivot_table(index=['pedido'], columns='marca_cat', aggfunc='size', fill_value=0)\n",
    "basket = (basket > 0).astype(int)\n",
    "\n",
    "# Aplicar el algoritmo Apriori\n",
    "frequent_itemsets = apriori(basket, min_support=0.70, use_colnames=True)"
   ]
  },
  {
   "cell_type": "code",
   "execution_count": 237,
   "metadata": {},
   "outputs": [
    {
     "data": {
      "text/html": [
       "<div>\n",
       "<style scoped>\n",
       "    .dataframe tbody tr th:only-of-type {\n",
       "        vertical-align: middle;\n",
       "    }\n",
       "\n",
       "    .dataframe tbody tr th {\n",
       "        vertical-align: top;\n",
       "    }\n",
       "\n",
       "    .dataframe thead th {\n",
       "        text-align: right;\n",
       "    }\n",
       "</style>\n",
       "<table border=\"1\" class=\"dataframe\">\n",
       "  <thead>\n",
       "    <tr style=\"text-align: right;\">\n",
       "      <th></th>\n",
       "      <th>support</th>\n",
       "      <th>itemsets</th>\n",
       "    </tr>\n",
       "  </thead>\n",
       "  <tbody>\n",
       "    <tr>\n",
       "      <th>0</th>\n",
       "      <td>0.921335</td>\n",
       "      <td>(COCA-COLA - poco)</td>\n",
       "    </tr>\n",
       "    <tr>\n",
       "      <th>1</th>\n",
       "      <td>0.785856</td>\n",
       "      <td>(COCA-COLA LIGHT - poco)</td>\n",
       "    </tr>\n",
       "    <tr>\n",
       "      <th>2</th>\n",
       "      <td>0.811681</td>\n",
       "      <td>(JOYA - poco)</td>\n",
       "    </tr>\n",
       "    <tr>\n",
       "      <th>3</th>\n",
       "      <td>0.763607</td>\n",
       "      <td>(COCA-COLA - poco, COCA-COLA LIGHT - poco)</td>\n",
       "    </tr>\n",
       "    <tr>\n",
       "      <th>4</th>\n",
       "      <td>0.794597</td>\n",
       "      <td>(JOYA - poco, COCA-COLA - poco)</td>\n",
       "    </tr>\n",
       "  </tbody>\n",
       "</table>\n",
       "</div>"
      ],
      "text/plain": [
       "    support                                    itemsets\n",
       "0  0.921335                          (COCA-COLA - poco)\n",
       "1  0.785856                    (COCA-COLA LIGHT - poco)\n",
       "2  0.811681                               (JOYA - poco)\n",
       "3  0.763607  (COCA-COLA - poco, COCA-COLA LIGHT - poco)\n",
       "4  0.794597             (JOYA - poco, COCA-COLA - poco)"
      ]
     },
     "execution_count": 237,
     "metadata": {},
     "output_type": "execute_result"
    }
   ],
   "source": [
    "frequent_itemsets"
   ]
  },
  {
   "cell_type": "code",
   "execution_count": 238,
   "metadata": {},
   "outputs": [],
   "source": [
    "# Generar reglas de asociación\n",
    "rules = association_rules(frequent_itemsets, metric=\"confidence\", min_threshold=0.5)"
   ]
  },
  {
   "cell_type": "code",
   "execution_count": 239,
   "metadata": {},
   "outputs": [
    {
     "data": {
      "text/html": [
       "<div>\n",
       "<style scoped>\n",
       "    .dataframe tbody tr th:only-of-type {\n",
       "        vertical-align: middle;\n",
       "    }\n",
       "\n",
       "    .dataframe tbody tr th {\n",
       "        vertical-align: top;\n",
       "    }\n",
       "\n",
       "    .dataframe thead th {\n",
       "        text-align: right;\n",
       "    }\n",
       "</style>\n",
       "<table border=\"1\" class=\"dataframe\">\n",
       "  <thead>\n",
       "    <tr style=\"text-align: right;\">\n",
       "      <th></th>\n",
       "      <th>antecedents</th>\n",
       "      <th>consequents</th>\n",
       "      <th>antecedent support</th>\n",
       "      <th>consequent support</th>\n",
       "      <th>support</th>\n",
       "      <th>confidence</th>\n",
       "      <th>lift</th>\n",
       "      <th>leverage</th>\n",
       "      <th>conviction</th>\n",
       "      <th>zhangs_metric</th>\n",
       "    </tr>\n",
       "  </thead>\n",
       "  <tbody>\n",
       "    <tr>\n",
       "      <th>0</th>\n",
       "      <td>(COCA-COLA - poco)</td>\n",
       "      <td>(COCA-COLA LIGHT - poco)</td>\n",
       "      <td>0.921335</td>\n",
       "      <td>0.785856</td>\n",
       "      <td>0.763607</td>\n",
       "      <td>0.828806</td>\n",
       "      <td>1.054653</td>\n",
       "      <td>0.039571</td>\n",
       "      <td>1.250880</td>\n",
       "      <td>0.658752</td>\n",
       "    </tr>\n",
       "    <tr>\n",
       "      <th>1</th>\n",
       "      <td>(COCA-COLA LIGHT - poco)</td>\n",
       "      <td>(COCA-COLA - poco)</td>\n",
       "      <td>0.785856</td>\n",
       "      <td>0.921335</td>\n",
       "      <td>0.763607</td>\n",
       "      <td>0.971689</td>\n",
       "      <td>1.054653</td>\n",
       "      <td>0.039571</td>\n",
       "      <td>2.778563</td>\n",
       "      <td>0.241991</td>\n",
       "    </tr>\n",
       "    <tr>\n",
       "      <th>2</th>\n",
       "      <td>(JOYA - poco)</td>\n",
       "      <td>(COCA-COLA - poco)</td>\n",
       "      <td>0.811681</td>\n",
       "      <td>0.921335</td>\n",
       "      <td>0.794597</td>\n",
       "      <td>0.978953</td>\n",
       "      <td>1.062537</td>\n",
       "      <td>0.046767</td>\n",
       "      <td>3.737506</td>\n",
       "      <td>0.312535</td>\n",
       "    </tr>\n",
       "    <tr>\n",
       "      <th>3</th>\n",
       "      <td>(COCA-COLA - poco)</td>\n",
       "      <td>(JOYA - poco)</td>\n",
       "      <td>0.921335</td>\n",
       "      <td>0.811681</td>\n",
       "      <td>0.794597</td>\n",
       "      <td>0.862441</td>\n",
       "      <td>1.062537</td>\n",
       "      <td>0.046767</td>\n",
       "      <td>1.369005</td>\n",
       "      <td>0.748189</td>\n",
       "    </tr>\n",
       "  </tbody>\n",
       "</table>\n",
       "</div>"
      ],
      "text/plain": [
       "                antecedents               consequents  antecedent support  \\\n",
       "0        (COCA-COLA - poco)  (COCA-COLA LIGHT - poco)            0.921335   \n",
       "1  (COCA-COLA LIGHT - poco)        (COCA-COLA - poco)            0.785856   \n",
       "2             (JOYA - poco)        (COCA-COLA - poco)            0.811681   \n",
       "3        (COCA-COLA - poco)             (JOYA - poco)            0.921335   \n",
       "\n",
       "   consequent support   support  confidence      lift  leverage  conviction  \\\n",
       "0            0.785856  0.763607    0.828806  1.054653  0.039571    1.250880   \n",
       "1            0.921335  0.763607    0.971689  1.054653  0.039571    2.778563   \n",
       "2            0.921335  0.794597    0.978953  1.062537  0.046767    3.737506   \n",
       "3            0.811681  0.794597    0.862441  1.062537  0.046767    1.369005   \n",
       "\n",
       "   zhangs_metric  \n",
       "0       0.658752  \n",
       "1       0.241991  \n",
       "2       0.312535  \n",
       "3       0.748189  "
      ]
     },
     "execution_count": 239,
     "metadata": {},
     "output_type": "execute_result"
    }
   ],
   "source": [
    "rules"
   ]
  },
  {
   "cell_type": "markdown",
   "metadata": {},
   "source": [
    "## Evaluación de Modelos"
   ]
  }
 ],
 "metadata": {
  "kernelspec": {
   "display_name": ".venv",
   "language": "python",
   "name": "python3"
  },
  "language_info": {
   "codemirror_mode": {
    "name": "ipython",
    "version": 3
   },
   "file_extension": ".py",
   "mimetype": "text/x-python",
   "name": "python",
   "nbconvert_exporter": "python",
   "pygments_lexer": "ipython3",
   "version": "3.11.9"
  }
 },
 "nbformat": 4,
 "nbformat_minor": 2
}

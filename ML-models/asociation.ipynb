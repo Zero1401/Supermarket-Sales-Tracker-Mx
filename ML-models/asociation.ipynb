{
  "cells": [
    {
      "cell_type": "markdown",
      "metadata": {},
      "source": [
        "## Caso de Negocio"
      ]
    },
    {
      "cell_type": "markdown",
      "metadata": {},
      "source": [
        "A una empresa vendedora de bebidas le interesa conocer las ventas que más frecuentan los consumidores al momento de comprar un refresco, por ende nos fijamos en los pedidos y categorizamos algunas columnas con el fin de poder asociarlas y obtener insights\n",
        "\n",
        "Algunas columnas categorizadas son: \n",
        "* `Temperatura` -> `Clima` \n",
        "* `Fecha` -> `Estación`\n",
        "* `Cantidad` -> `Categoría_Cantidad`"
      ]
    },
    {
      "cell_type": "markdown",
      "metadata": {},
      "source": [
        "### Preparación de Ambiente"
      ]
    },
    {
      "cell_type": "code",
      "execution_count": 416,
      "metadata": {},
      "outputs": [],
      "source": [
        "import pandas as pd\n",
        "import numpy as np\n",
        "import matplotlib.pyplot as plt\n",
        "import seaborn as sns\n",
        "from collections import defaultdict\n",
        "import pandas as pd\n",
        "from mlxtend.frequent_patterns import apriori, association_rules\n",
        "from mlxtend.frequent_patterns import fpgrowth"
      ]
    },
    {
      "cell_type": "markdown",
      "metadata": {},
      "source": [
        "### Cargar Dataframe"
      ]
    },
    {
      "cell_type": "code",
      "execution_count": 417,
      "metadata": {},
      "outputs": [],
      "source": [
        "df = pd.read_csv('data/ventas_bebidas.csv', encoding='latin-1')\n",
        "df.columns = df.columns.str.lower()"
      ]
    },
    {
      "cell_type": "markdown",
      "metadata": {},
      "source": [
        "### Limpieza y Transformación de Datos"
      ]
    },
    {
      "cell_type": "code",
      "execution_count": 418,
      "metadata": {},
      "outputs": [],
      "source": [
        "df['fecha'] = pd.to_datetime(df['fecha'], format='%d-%m-%y')\n",
        "\n",
        "def obtener_estacion(fecha):\n",
        "    mes = fecha.month\n",
        "    dia = fecha.day\n",
        "\n",
        "    # Invierno: 21 diciembre a 20 marzo\n",
        "    if (mes == 12 and dia >= 21) or mes in [1, 2] or (mes == 3 and dia <= 20):\n",
        "        return 'Invierno'\n",
        "    # Primavera: 21 marzo a 20 junio\n",
        "    elif (mes == 3 and dia >= 21) or mes in [4, 5] or (mes == 6 and dia <= 20):\n",
        "        return 'Primavera'\n",
        "    # Verano: 21 junio a 22 septiembre\n",
        "    elif (mes == 6 and dia >= 21) or mes in [7, 8] or (mes == 9 and dia <= 22):\n",
        "        return 'Verano'\n",
        "    # Otoño: 23 septiembre a 20 diciembre\n",
        "    elif (mes == 9 and dia >= 23) or mes in [10, 11] or (mes == 12 and dia <= 20):\n",
        "        return 'Otoño'\n",
        "\n",
        "def categorizar_temperatura(temp):\n",
        "    if temp < 15:\n",
        "        return 'Frío'\n",
        "    elif 15 <= temp < 25:\n",
        "        return 'Templado'\n",
        "    elif 25 <= temp < 35:\n",
        "        return 'Cálido'\n",
        "    else:\n",
        "        return 'Muy Cálido'  \n",
        "\n",
        "def categorizar_unidades(unidades):\n",
        "    if unidades <= 50:\n",
        "        return 'poco'\n",
        "    elif 51 <= unidades <= 200:\n",
        "        return 'moderado'\n",
        "    else:\n",
        "        return 'mucho'"
      ]
    },
    {
      "cell_type": "code",
      "execution_count": 419,
      "metadata": {},
      "outputs": [],
      "source": [
        "columns_to_drop = ['producto', 'producto_desc', 'monto' , 'precio_unidad', 'contador', 'segmento']\n",
        "df.drop(columns=columns_to_drop,inplace=True)"
      ]
    },
    {
      "cell_type": "code",
      "execution_count": 420,
      "metadata": {},
      "outputs": [],
      "source": [
        "df['estacion'] = df['fecha'].apply(obtener_estacion)\n",
        "df.drop(columns=['fecha'], inplace=True)\n",
        "\n",
        "df['clima'] = df['prom_temperatura'].apply(categorizar_temperatura)\n",
        "df.drop(columns=['prom_temperatura'], inplace=True)\n",
        "\n",
        "df['cat_unidades'] = df['unidades'].apply(categorizar_unidades)\n",
        "df.drop(columns=['unidades'], inplace=True)"
      ]
    },
    {
      "cell_type": "code",
      "execution_count": 421,
      "metadata": {},
      "outputs": [],
      "source": [
        "tienda_cat = defaultdict()\n",
        "for i, tienda in enumerate(df['tienda'].unique(), start=1):\n",
        "    tienda_cat[tienda] = f'Tienda {i}'\n",
        "\n",
        "df['tienda'] = df['tienda'].replace(tienda_cat)"
      ]
    },
    {
      "cell_type": "markdown",
      "metadata": {},
      "source": [
        "### Selección de Variables"
      ]
    },
    {
      "cell_type": "code",
      "execution_count": 422,
      "metadata": {},
      "outputs": [],
      "source": [
        "df['marca_municipio'] = df['marca'] +' - '+ df['municipio']\n",
        "df['marca_estacion'] = df['marca'] +' - '+ df['estacion']\n",
        "df['marca_clima'] = df['marca'] + ' - ' + df['clima']\n",
        "df['marca_cat'] = df['marca'] + ' - ' + df['cat_unidades']\n",
        "\n",
        "df.drop(columns=['estacion','clima','cat_unidades'],inplace=True)"
      ]
    },
    {
      "cell_type": "markdown",
      "metadata": {},
      "source": [
        "## Aprori\n"
      ]
    },
    {
      "cell_type": "markdown",
      "metadata": {},
      "source": [
        "### Situación 1: Análisis en los pedidos a través de marca + estación"
      ]
    },
    {
      "cell_type": "code",
      "execution_count": 423,
      "metadata": {},
      "outputs": [],
      "source": [
        "basket = df.pivot_table(index=['pedido'], columns='marca_estacion', aggfunc='size', fill_value=0)\n",
        "basket = (basket > 0).astype(bool)\n",
        "\n",
        "frequent_itemsets = apriori(basket, min_support=0.2, use_colnames=True)\n",
        "rules = association_rules(frequent_itemsets, metric=\"confidence\", min_threshold=0.5)"
      ]
    },
    {
      "cell_type": "code",
      "execution_count": 424,
      "metadata": {},
      "outputs": [],
      "source": [
        "def obtain_3_top_rules(rules, wordkeys):\n",
        "    rules = rules.sort_values(by=['confidence','lift'],ascending=False)\n",
        "\n",
        "    for i, item in enumerate(rules['antecedents'].values):\n",
        "        for row in item:\n",
        "            for clave in wordkeys:\n",
        "                if clave in row:\n",
        "                    rules.loc[i,'temp'] = clave\n",
        "\n",
        "    result = pd.DataFrame(columns=rules.columns)\n",
        "    groups = rules.groupby('temp')\n",
        "\n",
        "    for name in groups.groups.keys():\n",
        "        group = groups.get_group(name).head(3)  # Obtener los primeros 2\n",
        "        result = pd.concat([result, group])      # Concatenar al resultado\n",
        "\n",
        "    result.reset_index(drop=True, inplace=True)\n",
        "\n",
        "    return(result.sort_values(by=['confidence','lift'],ascending=False).drop(columns='temp').reset_index(drop=True))"
      ]
    },
    {
      "cell_type": "code",
      "execution_count": 425,
      "metadata": {},
      "outputs": [
        {
          "name": "stderr",
          "output_type": "stream",
          "text": [
            "C:\\Users\\Usuario\\AppData\\Local\\Temp\\ipykernel_4200\\3237406060.py:15: FutureWarning: The behavior of DataFrame concatenation with empty or all-NA entries is deprecated. In a future version, this will no longer exclude empty or all-NA columns when determining the result dtypes. To retain the old behavior, exclude the relevant entries before the concat operation.\n",
            "  result = pd.concat([result, group])      # Concatenar al resultado\n"
          ]
        },
        {
          "data": {
            "text/html": [
              "<div>\n",
              "<style scoped>\n",
              "    .dataframe tbody tr th:only-of-type {\n",
              "        vertical-align: middle;\n",
              "    }\n",
              "\n",
              "    .dataframe tbody tr th {\n",
              "        vertical-align: top;\n",
              "    }\n",
              "\n",
              "    .dataframe thead th {\n",
              "        text-align: right;\n",
              "    }\n",
              "</style>\n",
              "<table border=\"1\" class=\"dataframe\">\n",
              "  <thead>\n",
              "    <tr style=\"text-align: right;\">\n",
              "      <th></th>\n",
              "      <th>antecedents</th>\n",
              "      <th>consequents</th>\n",
              "      <th>antecedent support</th>\n",
              "      <th>consequent support</th>\n",
              "      <th>support</th>\n",
              "      <th>confidence</th>\n",
              "      <th>lift</th>\n",
              "      <th>leverage</th>\n",
              "      <th>conviction</th>\n",
              "      <th>zhangs_metric</th>\n",
              "    </tr>\n",
              "  </thead>\n",
              "  <tbody>\n",
              "    <tr>\n",
              "      <th>0</th>\n",
              "      <td>(COCA-COLA LIGHT - Primavera, JOYA - Primavera)</td>\n",
              "      <td>(COCA-COLA - Primavera)</td>\n",
              "      <td>0.201033</td>\n",
              "      <td>0.275725</td>\n",
              "      <td>0.200636</td>\n",
              "      <td>0.998024</td>\n",
              "      <td>3.619634</td>\n",
              "      <td>0.145206</td>\n",
              "      <td>366.483115</td>\n",
              "      <td>0.905831</td>\n",
              "    </tr>\n",
              "    <tr>\n",
              "      <th>1</th>\n",
              "      <td>(JOYA - Primavera)</td>\n",
              "      <td>(COCA-COLA - Primavera)</td>\n",
              "      <td>0.239968</td>\n",
              "      <td>0.275725</td>\n",
              "      <td>0.235598</td>\n",
              "      <td>0.981788</td>\n",
              "      <td>3.560750</td>\n",
              "      <td>0.169433</td>\n",
              "      <td>39.769278</td>\n",
              "      <td>0.946224</td>\n",
              "    </tr>\n",
              "    <tr>\n",
              "      <th>2</th>\n",
              "      <td>(JOYA - Invierno)</td>\n",
              "      <td>(COCA-COLA - Invierno)</td>\n",
              "      <td>0.223679</td>\n",
              "      <td>0.263806</td>\n",
              "      <td>0.219309</td>\n",
              "      <td>0.980462</td>\n",
              "      <td>3.716600</td>\n",
              "      <td>0.160301</td>\n",
              "      <td>37.679741</td>\n",
              "      <td>0.941539</td>\n",
              "    </tr>\n",
              "    <tr>\n",
              "      <th>3</th>\n",
              "      <td>(COCA-COLA LIGHT - Primavera)</td>\n",
              "      <td>(COCA-COLA - Primavera)</td>\n",
              "      <td>0.234803</td>\n",
              "      <td>0.275725</td>\n",
              "      <td>0.229241</td>\n",
              "      <td>0.976311</td>\n",
              "      <td>3.540887</td>\n",
              "      <td>0.164500</td>\n",
              "      <td>30.574749</td>\n",
              "      <td>0.937778</td>\n",
              "    </tr>\n",
              "    <tr>\n",
              "      <th>4</th>\n",
              "      <td>(COCA-COLA LIGHT - Invierno)</td>\n",
              "      <td>(COCA-COLA - Invierno)</td>\n",
              "      <td>0.216528</td>\n",
              "      <td>0.263806</td>\n",
              "      <td>0.209774</td>\n",
              "      <td>0.968807</td>\n",
              "      <td>3.672422</td>\n",
              "      <td>0.152652</td>\n",
              "      <td>23.601510</td>\n",
              "      <td>0.928814</td>\n",
              "    </tr>\n",
              "    <tr>\n",
              "      <th>5</th>\n",
              "      <td>(COCA-COLA LIGHT - Primavera)</td>\n",
              "      <td>(JOYA - Primavera, COCA-COLA - Primavera)</td>\n",
              "      <td>0.234803</td>\n",
              "      <td>0.235598</td>\n",
              "      <td>0.200636</td>\n",
              "      <td>0.854484</td>\n",
              "      <td>3.626874</td>\n",
              "      <td>0.145316</td>\n",
              "      <td>5.253042</td>\n",
              "      <td>0.946528</td>\n",
              "    </tr>\n",
              "  </tbody>\n",
              "</table>\n",
              "</div>"
            ],
            "text/plain": [
              "                                       antecedents  \\\n",
              "0  (COCA-COLA LIGHT - Primavera, JOYA - Primavera)   \n",
              "1                               (JOYA - Primavera)   \n",
              "2                                (JOYA - Invierno)   \n",
              "3                    (COCA-COLA LIGHT - Primavera)   \n",
              "4                     (COCA-COLA LIGHT - Invierno)   \n",
              "5                    (COCA-COLA LIGHT - Primavera)   \n",
              "\n",
              "                                 consequents  antecedent support  \\\n",
              "0                    (COCA-COLA - Primavera)            0.201033   \n",
              "1                    (COCA-COLA - Primavera)            0.239968   \n",
              "2                     (COCA-COLA - Invierno)            0.223679   \n",
              "3                    (COCA-COLA - Primavera)            0.234803   \n",
              "4                     (COCA-COLA - Invierno)            0.216528   \n",
              "5  (JOYA - Primavera, COCA-COLA - Primavera)            0.234803   \n",
              "\n",
              "   consequent support   support  confidence      lift  leverage  conviction  \\\n",
              "0            0.275725  0.200636    0.998024  3.619634  0.145206  366.483115   \n",
              "1            0.275725  0.235598    0.981788  3.560750  0.169433   39.769278   \n",
              "2            0.263806  0.219309    0.980462  3.716600  0.160301   37.679741   \n",
              "3            0.275725  0.229241    0.976311  3.540887  0.164500   30.574749   \n",
              "4            0.263806  0.209774    0.968807  3.672422  0.152652   23.601510   \n",
              "5            0.235598  0.200636    0.854484  3.626874  0.145316    5.253042   \n",
              "\n",
              "   zhangs_metric  \n",
              "0       0.905831  \n",
              "1       0.946224  \n",
              "2       0.941539  \n",
              "3       0.937778  \n",
              "4       0.928814  \n",
              "5       0.946528  "
            ]
          },
          "execution_count": 425,
          "metadata": {},
          "output_type": "execute_result"
        }
      ],
      "source": [
        "obtain_3_top_rules(rules, ['Primavera', 'Invierno', 'Otoño', 'Verano'])"
      ]
    },
    {
      "cell_type": "markdown",
      "metadata": {},
      "source": [
        "### Situación 2: Análisis en los pedidos a través de marca + clima"
      ]
    },
    {
      "cell_type": "code",
      "execution_count": 426,
      "metadata": {},
      "outputs": [],
      "source": [
        "basket = df.pivot_table(index=['pedido'], columns='marca_clima', aggfunc='size', fill_value=0)\n",
        "basket = (basket > 0).astype(bool)\n",
        "\n",
        "\n",
        "frequent_itemsets = apriori(basket, min_support=0.45, use_colnames=True)\n",
        "rules = association_rules(frequent_itemsets, metric=\"confidence\", min_threshold=0.5)"
      ]
    },
    {
      "cell_type": "code",
      "execution_count": 427,
      "metadata": {},
      "outputs": [
        {
          "name": "stderr",
          "output_type": "stream",
          "text": [
            "C:\\Users\\Usuario\\AppData\\Local\\Temp\\ipykernel_4200\\3237406060.py:15: FutureWarning: The behavior of DataFrame concatenation with empty or all-NA entries is deprecated. In a future version, this will no longer exclude empty or all-NA columns when determining the result dtypes. To retain the old behavior, exclude the relevant entries before the concat operation.\n",
            "  result = pd.concat([result, group])      # Concatenar al resultado\n"
          ]
        },
        {
          "data": {
            "text/html": [
              "<div>\n",
              "<style scoped>\n",
              "    .dataframe tbody tr th:only-of-type {\n",
              "        vertical-align: middle;\n",
              "    }\n",
              "\n",
              "    .dataframe tbody tr th {\n",
              "        vertical-align: top;\n",
              "    }\n",
              "\n",
              "    .dataframe thead th {\n",
              "        text-align: right;\n",
              "    }\n",
              "</style>\n",
              "<table border=\"1\" class=\"dataframe\">\n",
              "  <thead>\n",
              "    <tr style=\"text-align: right;\">\n",
              "      <th></th>\n",
              "      <th>antecedents</th>\n",
              "      <th>consequents</th>\n",
              "      <th>antecedent support</th>\n",
              "      <th>consequent support</th>\n",
              "      <th>support</th>\n",
              "      <th>confidence</th>\n",
              "      <th>lift</th>\n",
              "      <th>leverage</th>\n",
              "      <th>conviction</th>\n",
              "      <th>zhangs_metric</th>\n",
              "    </tr>\n",
              "  </thead>\n",
              "  <tbody>\n",
              "    <tr>\n",
              "      <th>0</th>\n",
              "      <td>(JOYA - Cálido)</td>\n",
              "      <td>(COCA-COLA - Cálido)</td>\n",
              "      <td>0.490663</td>\n",
              "      <td>0.546683</td>\n",
              "      <td>0.481128</td>\n",
              "      <td>0.980567</td>\n",
              "      <td>1.793668</td>\n",
              "      <td>0.212891</td>\n",
              "      <td>23.326960</td>\n",
              "      <td>0.868744</td>\n",
              "    </tr>\n",
              "    <tr>\n",
              "      <th>1</th>\n",
              "      <td>(COCA-COLA LIGHT - Cálido)</td>\n",
              "      <td>(COCA-COLA - Cálido)</td>\n",
              "      <td>0.477155</td>\n",
              "      <td>0.546683</td>\n",
              "      <td>0.463647</td>\n",
              "      <td>0.971690</td>\n",
              "      <td>1.777431</td>\n",
              "      <td>0.202795</td>\n",
              "      <td>16.012772</td>\n",
              "      <td>0.836558</td>\n",
              "    </tr>\n",
              "    <tr>\n",
              "      <th>2</th>\n",
              "      <td>(COCA-COLA - Cálido)</td>\n",
              "      <td>(JOYA - Cálido)</td>\n",
              "      <td>0.546683</td>\n",
              "      <td>0.490663</td>\n",
              "      <td>0.481128</td>\n",
              "      <td>0.880087</td>\n",
              "      <td>1.793668</td>\n",
              "      <td>0.212891</td>\n",
              "      <td>4.247558</td>\n",
              "      <td>0.976100</td>\n",
              "    </tr>\n",
              "  </tbody>\n",
              "</table>\n",
              "</div>"
            ],
            "text/plain": [
              "                  antecedents           consequents  antecedent support  \\\n",
              "0             (JOYA - Cálido)  (COCA-COLA - Cálido)            0.490663   \n",
              "1  (COCA-COLA LIGHT - Cálido)  (COCA-COLA - Cálido)            0.477155   \n",
              "2        (COCA-COLA - Cálido)       (JOYA - Cálido)            0.546683   \n",
              "\n",
              "   consequent support   support  confidence      lift  leverage  conviction  \\\n",
              "0            0.546683  0.481128    0.980567  1.793668  0.212891   23.326960   \n",
              "1            0.546683  0.463647    0.971690  1.777431  0.202795   16.012772   \n",
              "2            0.490663  0.481128    0.880087  1.793668  0.212891    4.247558   \n",
              "\n",
              "   zhangs_metric  \n",
              "0       0.868744  \n",
              "1       0.836558  \n",
              "2       0.976100  "
            ]
          },
          "execution_count": 427,
          "metadata": {},
          "output_type": "execute_result"
        }
      ],
      "source": [
        "obtain_3_top_rules(rules, ['Muy Cálido', 'Cálido', 'Templado', 'Frío'])"
      ]
    },
    {
      "cell_type": "markdown",
      "metadata": {},
      "source": [
        "### Situación 3: Análisis en los pedidos a través de marca + categoría"
      ]
    },
    {
      "cell_type": "code",
      "execution_count": 428,
      "metadata": {},
      "outputs": [],
      "source": [
        "basket = df.pivot_table(index=['pedido'], columns='marca_cat', aggfunc='size', fill_value=0)\n",
        "basket = (basket > 0).astype(bool)\n",
        "\n",
        "frequent_itemsets = apriori(basket, min_support=0.60, use_colnames=True)\n",
        "rules = association_rules(frequent_itemsets, metric=\"confidence\", min_threshold=0.5)"
      ]
    },
    {
      "cell_type": "code",
      "execution_count": 429,
      "metadata": {},
      "outputs": [
        {
          "name": "stderr",
          "output_type": "stream",
          "text": [
            "C:\\Users\\Usuario\\AppData\\Local\\Temp\\ipykernel_4200\\3237406060.py:15: FutureWarning: The behavior of DataFrame concatenation with empty or all-NA entries is deprecated. In a future version, this will no longer exclude empty or all-NA columns when determining the result dtypes. To retain the old behavior, exclude the relevant entries before the concat operation.\n",
            "  result = pd.concat([result, group])      # Concatenar al resultado\n"
          ]
        },
        {
          "data": {
            "text/html": [
              "<div>\n",
              "<style scoped>\n",
              "    .dataframe tbody tr th:only-of-type {\n",
              "        vertical-align: middle;\n",
              "    }\n",
              "\n",
              "    .dataframe tbody tr th {\n",
              "        vertical-align: top;\n",
              "    }\n",
              "\n",
              "    .dataframe thead th {\n",
              "        text-align: right;\n",
              "    }\n",
              "</style>\n",
              "<table border=\"1\" class=\"dataframe\">\n",
              "  <thead>\n",
              "    <tr style=\"text-align: right;\">\n",
              "      <th></th>\n",
              "      <th>antecedents</th>\n",
              "      <th>consequents</th>\n",
              "      <th>antecedent support</th>\n",
              "      <th>consequent support</th>\n",
              "      <th>support</th>\n",
              "      <th>confidence</th>\n",
              "      <th>lift</th>\n",
              "      <th>leverage</th>\n",
              "      <th>conviction</th>\n",
              "      <th>zhangs_metric</th>\n",
              "    </tr>\n",
              "  </thead>\n",
              "  <tbody>\n",
              "    <tr>\n",
              "      <th>0</th>\n",
              "      <td>(SPRITE - poco, FANTA - poco)</td>\n",
              "      <td>(JOYA - poco)</td>\n",
              "      <td>0.613826</td>\n",
              "      <td>0.811681</td>\n",
              "      <td>0.613429</td>\n",
              "      <td>0.999353</td>\n",
              "      <td>1.231214</td>\n",
              "      <td>0.115198</td>\n",
              "      <td>290.953516</td>\n",
              "      <td>0.486293</td>\n",
              "    </tr>\n",
              "    <tr>\n",
              "      <th>1</th>\n",
              "      <td>(FANTA - poco, COCA-COLA - poco)</td>\n",
              "      <td>(JOYA - poco)</td>\n",
              "      <td>0.613826</td>\n",
              "      <td>0.811681</td>\n",
              "      <td>0.611045</td>\n",
              "      <td>0.995469</td>\n",
              "      <td>1.226430</td>\n",
              "      <td>0.112814</td>\n",
              "      <td>41.564788</td>\n",
              "      <td>0.478088</td>\n",
              "    </tr>\n",
              "    <tr>\n",
              "      <th>2</th>\n",
              "      <td>(FANTA - poco)</td>\n",
              "      <td>(JOYA - poco)</td>\n",
              "      <td>0.627731</td>\n",
              "      <td>0.811681</td>\n",
              "      <td>0.624553</td>\n",
              "      <td>0.994937</td>\n",
              "      <td>1.225774</td>\n",
              "      <td>0.115036</td>\n",
              "      <td>37.193087</td>\n",
              "      <td>0.494774</td>\n",
              "    </tr>\n",
              "  </tbody>\n",
              "</table>\n",
              "</div>"
            ],
            "text/plain": [
              "                        antecedents    consequents  antecedent support  \\\n",
              "0     (SPRITE - poco, FANTA - poco)  (JOYA - poco)            0.613826   \n",
              "1  (FANTA - poco, COCA-COLA - poco)  (JOYA - poco)            0.613826   \n",
              "2                    (FANTA - poco)  (JOYA - poco)            0.627731   \n",
              "\n",
              "   consequent support   support  confidence      lift  leverage  conviction  \\\n",
              "0            0.811681  0.613429    0.999353  1.231214  0.115198  290.953516   \n",
              "1            0.811681  0.611045    0.995469  1.226430  0.112814   41.564788   \n",
              "2            0.811681  0.624553    0.994937  1.225774  0.115036   37.193087   \n",
              "\n",
              "   zhangs_metric  \n",
              "0       0.486293  \n",
              "1       0.478088  \n",
              "2       0.494774  "
            ]
          },
          "execution_count": 429,
          "metadata": {},
          "output_type": "execute_result"
        }
      ],
      "source": [
        "obtain_3_top_rules(rules, ['poco', 'moderado', 'mucho'])"
      ]
    },
    {
      "cell_type": "markdown",
      "metadata": {
        "id": "8b_cRHwVULX2"
      },
      "source": [
        "# FP-Growth"
      ]
    },
    {
      "cell_type": "markdown",
      "metadata": {
        "id": "H9wvRz0cUX_X"
      },
      "source": [
        "## Situación 1"
      ]
    },
    {
      "cell_type": "code",
      "execution_count": 430,
      "metadata": {
        "colab": {
          "base_uri": "https://localhost:8080/"
        },
        "id": "pDhabc3oUUq1",
        "outputId": "aa870b70-1922-495c-a451-74e6d6b707cc"
      },
      "outputs": [
        {
          "name": "stderr",
          "output_type": "stream",
          "text": [
            "g:\\Supermarket-Sales-Tracker-Mx\\.venv\\Lib\\site-packages\\mlxtend\\frequent_patterns\\fpcommon.py:109: DeprecationWarning: DataFrames with non-bool types result in worse computationalperformance and their support might be discontinued in the future.Please use a DataFrame with bool type\n",
            "  warnings.warn(\n"
          ]
        }
      ],
      "source": [
        "# Crear la tabla de transacciones binaria\n",
        "basket2 = df.pivot_table(index=['pedido'], columns='marca_estacion', aggfunc='size', fill_value=0)\n",
        "basket2 = (basket2 > 0).astype(int)\n",
        "\n",
        "# Aplicar el algoritmo FP-Growth\n",
        "frequent_itemsets2 = fpgrowth(basket2, min_support=0.21, use_colnames=True)"
      ]
    },
    {
      "cell_type": "code",
      "execution_count": 431,
      "metadata": {
        "colab": {
          "base_uri": "https://localhost:8080/"
        },
        "id": "VXg3DZ8BVNAY",
        "outputId": "0d36ebdb-b239-43c2-bf1a-9c745c2fa0be"
      },
      "outputs": [],
      "source": [
        "rules2 = association_rules(frequent_itemsets2, metric=\"confidence\", min_threshold=0.5)"
      ]
    },
    {
      "cell_type": "code",
      "execution_count": 432,
      "metadata": {
        "colab": {
          "base_uri": "https://localhost:8080/",
          "height": 518
        },
        "id": "tf_zi5Q2VUA6",
        "outputId": "2fb94a18-a1ec-43b9-f9aa-9c39523487b1"
      },
      "outputs": [
        {
          "data": {
            "text/html": [
              "<div>\n",
              "<style scoped>\n",
              "    .dataframe tbody tr th:only-of-type {\n",
              "        vertical-align: middle;\n",
              "    }\n",
              "\n",
              "    .dataframe tbody tr th {\n",
              "        vertical-align: top;\n",
              "    }\n",
              "\n",
              "    .dataframe thead th {\n",
              "        text-align: right;\n",
              "    }\n",
              "</style>\n",
              "<table border=\"1\" class=\"dataframe\">\n",
              "  <thead>\n",
              "    <tr style=\"text-align: right;\">\n",
              "      <th></th>\n",
              "      <th>antecedents</th>\n",
              "      <th>consequents</th>\n",
              "      <th>antecedent support</th>\n",
              "      <th>consequent support</th>\n",
              "      <th>support</th>\n",
              "      <th>confidence</th>\n",
              "      <th>lift</th>\n",
              "      <th>leverage</th>\n",
              "      <th>conviction</th>\n",
              "      <th>zhangs_metric</th>\n",
              "    </tr>\n",
              "  </thead>\n",
              "  <tbody>\n",
              "    <tr>\n",
              "      <th>0</th>\n",
              "      <td>(JOYA - Invierno)</td>\n",
              "      <td>(COCA-COLA - Invierno)</td>\n",
              "      <td>0.223679</td>\n",
              "      <td>0.263806</td>\n",
              "      <td>0.219309</td>\n",
              "      <td>0.980462</td>\n",
              "      <td>3.716600</td>\n",
              "      <td>0.160301</td>\n",
              "      <td>37.679741</td>\n",
              "      <td>0.941539</td>\n",
              "    </tr>\n",
              "    <tr>\n",
              "      <th>1</th>\n",
              "      <td>(COCA-COLA - Invierno)</td>\n",
              "      <td>(JOYA - Invierno)</td>\n",
              "      <td>0.263806</td>\n",
              "      <td>0.223679</td>\n",
              "      <td>0.219309</td>\n",
              "      <td>0.831325</td>\n",
              "      <td>3.716600</td>\n",
              "      <td>0.160301</td>\n",
              "      <td>4.602475</td>\n",
              "      <td>0.992859</td>\n",
              "    </tr>\n",
              "    <tr>\n",
              "      <th>2</th>\n",
              "      <td>(JOYA - Primavera)</td>\n",
              "      <td>(COCA-COLA - Primavera)</td>\n",
              "      <td>0.239968</td>\n",
              "      <td>0.275725</td>\n",
              "      <td>0.235598</td>\n",
              "      <td>0.981788</td>\n",
              "      <td>3.560750</td>\n",
              "      <td>0.169433</td>\n",
              "      <td>39.769278</td>\n",
              "      <td>0.946224</td>\n",
              "    </tr>\n",
              "    <tr>\n",
              "      <th>3</th>\n",
              "      <td>(COCA-COLA - Primavera)</td>\n",
              "      <td>(JOYA - Primavera)</td>\n",
              "      <td>0.275725</td>\n",
              "      <td>0.239968</td>\n",
              "      <td>0.235598</td>\n",
              "      <td>0.854467</td>\n",
              "      <td>3.560750</td>\n",
              "      <td>0.169433</td>\n",
              "      <td>5.222397</td>\n",
              "      <td>0.992938</td>\n",
              "    </tr>\n",
              "    <tr>\n",
              "      <th>4</th>\n",
              "      <td>(COCA-COLA LIGHT - Primavera)</td>\n",
              "      <td>(COCA-COLA - Primavera)</td>\n",
              "      <td>0.234803</td>\n",
              "      <td>0.275725</td>\n",
              "      <td>0.229241</td>\n",
              "      <td>0.976311</td>\n",
              "      <td>3.540887</td>\n",
              "      <td>0.164500</td>\n",
              "      <td>30.574749</td>\n",
              "      <td>0.937778</td>\n",
              "    </tr>\n",
              "    <tr>\n",
              "      <th>5</th>\n",
              "      <td>(COCA-COLA - Primavera)</td>\n",
              "      <td>(COCA-COLA LIGHT - Primavera)</td>\n",
              "      <td>0.275725</td>\n",
              "      <td>0.234803</td>\n",
              "      <td>0.229241</td>\n",
              "      <td>0.831412</td>\n",
              "      <td>3.540887</td>\n",
              "      <td>0.164500</td>\n",
              "      <td>4.538859</td>\n",
              "      <td>0.990763</td>\n",
              "    </tr>\n",
              "  </tbody>\n",
              "</table>\n",
              "</div>"
            ],
            "text/plain": [
              "                     antecedents                    consequents  \\\n",
              "0              (JOYA - Invierno)         (COCA-COLA - Invierno)   \n",
              "1         (COCA-COLA - Invierno)              (JOYA - Invierno)   \n",
              "2             (JOYA - Primavera)        (COCA-COLA - Primavera)   \n",
              "3        (COCA-COLA - Primavera)             (JOYA - Primavera)   \n",
              "4  (COCA-COLA LIGHT - Primavera)        (COCA-COLA - Primavera)   \n",
              "5        (COCA-COLA - Primavera)  (COCA-COLA LIGHT - Primavera)   \n",
              "\n",
              "   antecedent support  consequent support   support  confidence      lift  \\\n",
              "0            0.223679            0.263806  0.219309    0.980462  3.716600   \n",
              "1            0.263806            0.223679  0.219309    0.831325  3.716600   \n",
              "2            0.239968            0.275725  0.235598    0.981788  3.560750   \n",
              "3            0.275725            0.239968  0.235598    0.854467  3.560750   \n",
              "4            0.234803            0.275725  0.229241    0.976311  3.540887   \n",
              "5            0.275725            0.234803  0.229241    0.831412  3.540887   \n",
              "\n",
              "   leverage  conviction  zhangs_metric  \n",
              "0  0.160301   37.679741       0.941539  \n",
              "1  0.160301    4.602475       0.992859  \n",
              "2  0.169433   39.769278       0.946224  \n",
              "3  0.169433    5.222397       0.992938  \n",
              "4  0.164500   30.574749       0.937778  \n",
              "5  0.164500    4.538859       0.990763  "
            ]
          },
          "execution_count": 432,
          "metadata": {},
          "output_type": "execute_result"
        }
      ],
      "source": [
        "rules2[:]"
      ]
    },
    {
      "cell_type": "markdown",
      "metadata": {
        "id": "U3cKsFwAUbjZ"
      },
      "source": [
        "## Situación 2"
      ]
    },
    {
      "cell_type": "code",
      "execution_count": 433,
      "metadata": {
        "colab": {
          "base_uri": "https://localhost:8080/"
        },
        "id": "ZAyAvcqYUeGc",
        "outputId": "0442b7a0-60e7-4238-a535-8a7613555c2f"
      },
      "outputs": [
        {
          "name": "stderr",
          "output_type": "stream",
          "text": [
            "g:\\Supermarket-Sales-Tracker-Mx\\.venv\\Lib\\site-packages\\mlxtend\\frequent_patterns\\fpcommon.py:109: DeprecationWarning: DataFrames with non-bool types result in worse computationalperformance and their support might be discontinued in the future.Please use a DataFrame with bool type\n",
            "  warnings.warn(\n"
          ]
        }
      ],
      "source": [
        "basket2 = df.pivot_table(index=['pedido'], columns='marca_clima', aggfunc='size', fill_value=0)\n",
        "basket2 = (basket2 > 0).astype(int)\n",
        "\n",
        "# Aplicar el algoritmo\n",
        "frequent_itemsets2 = fpgrowth(basket2, min_support=0.43, use_colnames=True)"
      ]
    },
    {
      "cell_type": "code",
      "execution_count": 434,
      "metadata": {
        "colab": {
          "base_uri": "https://localhost:8080/",
          "height": 261
        },
        "id": "Cg9zE4BHWpag",
        "outputId": "9b272095-008c-43f9-c268-520d11265b8c"
      },
      "outputs": [
        {
          "data": {
            "text/html": [
              "<div>\n",
              "<style scoped>\n",
              "    .dataframe tbody tr th:only-of-type {\n",
              "        vertical-align: middle;\n",
              "    }\n",
              "\n",
              "    .dataframe tbody tr th {\n",
              "        vertical-align: top;\n",
              "    }\n",
              "\n",
              "    .dataframe thead th {\n",
              "        text-align: right;\n",
              "    }\n",
              "</style>\n",
              "<table border=\"1\" class=\"dataframe\">\n",
              "  <thead>\n",
              "    <tr style=\"text-align: right;\">\n",
              "      <th></th>\n",
              "      <th>support</th>\n",
              "      <th>itemsets</th>\n",
              "    </tr>\n",
              "  </thead>\n",
              "  <tbody>\n",
              "    <tr>\n",
              "      <th>0</th>\n",
              "      <td>0.546683</td>\n",
              "      <td>(COCA-COLA - Cálido)</td>\n",
              "    </tr>\n",
              "    <tr>\n",
              "      <th>1</th>\n",
              "      <td>0.490663</td>\n",
              "      <td>(JOYA - Cálido)</td>\n",
              "    </tr>\n",
              "    <tr>\n",
              "      <th>2</th>\n",
              "      <td>0.477155</td>\n",
              "      <td>(COCA-COLA LIGHT - Cálido)</td>\n",
              "    </tr>\n",
              "    <tr>\n",
              "      <th>3</th>\n",
              "      <td>0.481128</td>\n",
              "      <td>(JOYA - Cálido, COCA-COLA - Cálido)</td>\n",
              "    </tr>\n",
              "    <tr>\n",
              "      <th>4</th>\n",
              "      <td>0.463647</td>\n",
              "      <td>(COCA-COLA LIGHT - Cálido, COCA-COLA - Cálido)</td>\n",
              "    </tr>\n",
              "  </tbody>\n",
              "</table>\n",
              "</div>"
            ],
            "text/plain": [
              "    support                                        itemsets\n",
              "0  0.546683                            (COCA-COLA - Cálido)\n",
              "1  0.490663                                 (JOYA - Cálido)\n",
              "2  0.477155                      (COCA-COLA LIGHT - Cálido)\n",
              "3  0.481128             (JOYA - Cálido, COCA-COLA - Cálido)\n",
              "4  0.463647  (COCA-COLA LIGHT - Cálido, COCA-COLA - Cálido)"
            ]
          },
          "execution_count": 434,
          "metadata": {},
          "output_type": "execute_result"
        }
      ],
      "source": [
        "frequent_itemsets2"
      ]
    },
    {
      "cell_type": "code",
      "execution_count": 435,
      "metadata": {
        "colab": {
          "base_uri": "https://localhost:8080/"
        },
        "id": "Nn0klQlUWpGB",
        "outputId": "9d82d91b-59a3-47bc-ea79-ed0b669cff2a"
      },
      "outputs": [],
      "source": [
        "rules2 = association_rules(frequent_itemsets2, metric=\"confidence\", min_threshold=0.5)"
      ]
    },
    {
      "cell_type": "code",
      "execution_count": 436,
      "metadata": {
        "colab": {
          "base_uri": "https://localhost:8080/",
          "height": 386
        },
        "id": "Y-GpQ18pW2CZ",
        "outputId": "753aa965-cf3c-47dc-a7f0-b793339228e7"
      },
      "outputs": [
        {
          "data": {
            "text/html": [
              "<div>\n",
              "<style scoped>\n",
              "    .dataframe tbody tr th:only-of-type {\n",
              "        vertical-align: middle;\n",
              "    }\n",
              "\n",
              "    .dataframe tbody tr th {\n",
              "        vertical-align: top;\n",
              "    }\n",
              "\n",
              "    .dataframe thead th {\n",
              "        text-align: right;\n",
              "    }\n",
              "</style>\n",
              "<table border=\"1\" class=\"dataframe\">\n",
              "  <thead>\n",
              "    <tr style=\"text-align: right;\">\n",
              "      <th></th>\n",
              "      <th>antecedents</th>\n",
              "      <th>consequents</th>\n",
              "      <th>antecedent support</th>\n",
              "      <th>consequent support</th>\n",
              "      <th>support</th>\n",
              "      <th>confidence</th>\n",
              "      <th>lift</th>\n",
              "      <th>leverage</th>\n",
              "      <th>conviction</th>\n",
              "      <th>zhangs_metric</th>\n",
              "    </tr>\n",
              "  </thead>\n",
              "  <tbody>\n",
              "    <tr>\n",
              "      <th>0</th>\n",
              "      <td>(JOYA - Cálido)</td>\n",
              "      <td>(COCA-COLA - Cálido)</td>\n",
              "      <td>0.490663</td>\n",
              "      <td>0.546683</td>\n",
              "      <td>0.481128</td>\n",
              "      <td>0.980567</td>\n",
              "      <td>1.793668</td>\n",
              "      <td>0.212891</td>\n",
              "      <td>23.326960</td>\n",
              "      <td>0.868744</td>\n",
              "    </tr>\n",
              "    <tr>\n",
              "      <th>1</th>\n",
              "      <td>(COCA-COLA - Cálido)</td>\n",
              "      <td>(JOYA - Cálido)</td>\n",
              "      <td>0.546683</td>\n",
              "      <td>0.490663</td>\n",
              "      <td>0.481128</td>\n",
              "      <td>0.880087</td>\n",
              "      <td>1.793668</td>\n",
              "      <td>0.212891</td>\n",
              "      <td>4.247558</td>\n",
              "      <td>0.976100</td>\n",
              "    </tr>\n",
              "    <tr>\n",
              "      <th>2</th>\n",
              "      <td>(COCA-COLA LIGHT - Cálido)</td>\n",
              "      <td>(COCA-COLA - Cálido)</td>\n",
              "      <td>0.477155</td>\n",
              "      <td>0.546683</td>\n",
              "      <td>0.463647</td>\n",
              "      <td>0.971690</td>\n",
              "      <td>1.777431</td>\n",
              "      <td>0.202795</td>\n",
              "      <td>16.012772</td>\n",
              "      <td>0.836558</td>\n",
              "    </tr>\n",
              "    <tr>\n",
              "      <th>3</th>\n",
              "      <td>(COCA-COLA - Cálido)</td>\n",
              "      <td>(COCA-COLA LIGHT - Cálido)</td>\n",
              "      <td>0.546683</td>\n",
              "      <td>0.477155</td>\n",
              "      <td>0.463647</td>\n",
              "      <td>0.848110</td>\n",
              "      <td>1.777431</td>\n",
              "      <td>0.202795</td>\n",
              "      <td>3.442269</td>\n",
              "      <td>0.964865</td>\n",
              "    </tr>\n",
              "  </tbody>\n",
              "</table>\n",
              "</div>"
            ],
            "text/plain": [
              "                  antecedents                 consequents  antecedent support  \\\n",
              "0             (JOYA - Cálido)        (COCA-COLA - Cálido)            0.490663   \n",
              "1        (COCA-COLA - Cálido)             (JOYA - Cálido)            0.546683   \n",
              "2  (COCA-COLA LIGHT - Cálido)        (COCA-COLA - Cálido)            0.477155   \n",
              "3        (COCA-COLA - Cálido)  (COCA-COLA LIGHT - Cálido)            0.546683   \n",
              "\n",
              "   consequent support   support  confidence      lift  leverage  conviction  \\\n",
              "0            0.546683  0.481128    0.980567  1.793668  0.212891   23.326960   \n",
              "1            0.490663  0.481128    0.880087  1.793668  0.212891    4.247558   \n",
              "2            0.546683  0.463647    0.971690  1.777431  0.202795   16.012772   \n",
              "3            0.477155  0.463647    0.848110  1.777431  0.202795    3.442269   \n",
              "\n",
              "   zhangs_metric  \n",
              "0       0.868744  \n",
              "1       0.976100  \n",
              "2       0.836558  \n",
              "3       0.964865  "
            ]
          },
          "execution_count": 436,
          "metadata": {},
          "output_type": "execute_result"
        }
      ],
      "source": [
        "rules2[:]"
      ]
    },
    {
      "cell_type": "markdown",
      "metadata": {
        "id": "q17-tub4UdzU"
      },
      "source": [
        "## Situación 3"
      ]
    },
    {
      "cell_type": "code",
      "execution_count": 437,
      "metadata": {
        "colab": {
          "base_uri": "https://localhost:8080/"
        },
        "id": "3tSZU_aHUjSy",
        "outputId": "2e17c64a-852b-4b6e-e1d3-d6d0598a88d1"
      },
      "outputs": [
        {
          "name": "stderr",
          "output_type": "stream",
          "text": [
            "g:\\Supermarket-Sales-Tracker-Mx\\.venv\\Lib\\site-packages\\mlxtend\\frequent_patterns\\fpcommon.py:109: DeprecationWarning: DataFrames with non-bool types result in worse computationalperformance and their support might be discontinued in the future.Please use a DataFrame with bool type\n",
            "  warnings.warn(\n"
          ]
        }
      ],
      "source": [
        "basket2 = df.pivot_table(index=['pedido'], columns='marca_cat', aggfunc='size', fill_value=0)\n",
        "basket2 = (basket2 > 0).astype(int)\n",
        "\n",
        "# Aplicar el algoritmo Apriori\n",
        "frequent_itemsets2 = fpgrowth(basket2, min_support=0.70, use_colnames=True)"
      ]
    },
    {
      "cell_type": "code",
      "execution_count": 438,
      "metadata": {
        "colab": {
          "base_uri": "https://localhost:8080/",
          "height": 894
        },
        "id": "APaEfKGnXW_1",
        "outputId": "bd8e086a-fc9e-4abb-f26f-8100e83a40b8"
      },
      "outputs": [
        {
          "data": {
            "text/html": [
              "<div>\n",
              "<style scoped>\n",
              "    .dataframe tbody tr th:only-of-type {\n",
              "        vertical-align: middle;\n",
              "    }\n",
              "\n",
              "    .dataframe tbody tr th {\n",
              "        vertical-align: top;\n",
              "    }\n",
              "\n",
              "    .dataframe thead th {\n",
              "        text-align: right;\n",
              "    }\n",
              "</style>\n",
              "<table border=\"1\" class=\"dataframe\">\n",
              "  <thead>\n",
              "    <tr style=\"text-align: right;\">\n",
              "      <th></th>\n",
              "      <th>support</th>\n",
              "      <th>itemsets</th>\n",
              "    </tr>\n",
              "  </thead>\n",
              "  <tbody>\n",
              "    <tr>\n",
              "      <th>0</th>\n",
              "      <td>0.921335</td>\n",
              "      <td>(COCA-COLA - poco)</td>\n",
              "    </tr>\n",
              "    <tr>\n",
              "      <th>1</th>\n",
              "      <td>0.785856</td>\n",
              "      <td>(COCA-COLA LIGHT - poco)</td>\n",
              "    </tr>\n",
              "    <tr>\n",
              "      <th>2</th>\n",
              "      <td>0.811681</td>\n",
              "      <td>(JOYA - poco)</td>\n",
              "    </tr>\n",
              "    <tr>\n",
              "      <th>3</th>\n",
              "      <td>0.763607</td>\n",
              "      <td>(COCA-COLA - poco, COCA-COLA LIGHT - poco)</td>\n",
              "    </tr>\n",
              "    <tr>\n",
              "      <th>4</th>\n",
              "      <td>0.794597</td>\n",
              "      <td>(JOYA - poco, COCA-COLA - poco)</td>\n",
              "    </tr>\n",
              "  </tbody>\n",
              "</table>\n",
              "</div>"
            ],
            "text/plain": [
              "    support                                    itemsets\n",
              "0  0.921335                          (COCA-COLA - poco)\n",
              "1  0.785856                    (COCA-COLA LIGHT - poco)\n",
              "2  0.811681                               (JOYA - poco)\n",
              "3  0.763607  (COCA-COLA - poco, COCA-COLA LIGHT - poco)\n",
              "4  0.794597             (JOYA - poco, COCA-COLA - poco)"
            ]
          },
          "execution_count": 438,
          "metadata": {},
          "output_type": "execute_result"
        }
      ],
      "source": [
        "frequent_itemsets2"
      ]
    },
    {
      "cell_type": "code",
      "execution_count": 439,
      "metadata": {
        "colab": {
          "base_uri": "https://localhost:8080/"
        },
        "id": "_ckrpxw7XW41",
        "outputId": "b3b914f3-16f6-4bfe-9ea0-aeb8e6fe30f2"
      },
      "outputs": [],
      "source": [
        "rules2 = association_rules(frequent_itemsets2, metric=\"confidence\", min_threshold=0.5)"
      ]
    },
    {
      "cell_type": "code",
      "execution_count": 440,
      "metadata": {
        "colab": {
          "base_uri": "https://localhost:8080/",
          "height": 386
        },
        "id": "_u4AwitTXWtV",
        "outputId": "01edba1a-cce6-4a8b-bad6-f7dfbf645d62"
      },
      "outputs": [
        {
          "data": {
            "text/html": [
              "<div>\n",
              "<style scoped>\n",
              "    .dataframe tbody tr th:only-of-type {\n",
              "        vertical-align: middle;\n",
              "    }\n",
              "\n",
              "    .dataframe tbody tr th {\n",
              "        vertical-align: top;\n",
              "    }\n",
              "\n",
              "    .dataframe thead th {\n",
              "        text-align: right;\n",
              "    }\n",
              "</style>\n",
              "<table border=\"1\" class=\"dataframe\">\n",
              "  <thead>\n",
              "    <tr style=\"text-align: right;\">\n",
              "      <th></th>\n",
              "      <th>antecedents</th>\n",
              "      <th>consequents</th>\n",
              "      <th>antecedent support</th>\n",
              "      <th>consequent support</th>\n",
              "      <th>support</th>\n",
              "      <th>confidence</th>\n",
              "      <th>lift</th>\n",
              "      <th>leverage</th>\n",
              "      <th>conviction</th>\n",
              "      <th>zhangs_metric</th>\n",
              "    </tr>\n",
              "  </thead>\n",
              "  <tbody>\n",
              "    <tr>\n",
              "      <th>0</th>\n",
              "      <td>(COCA-COLA - poco)</td>\n",
              "      <td>(COCA-COLA LIGHT - poco)</td>\n",
              "      <td>0.921335</td>\n",
              "      <td>0.785856</td>\n",
              "      <td>0.763607</td>\n",
              "      <td>0.828806</td>\n",
              "      <td>1.054653</td>\n",
              "      <td>0.039571</td>\n",
              "      <td>1.250880</td>\n",
              "      <td>0.658752</td>\n",
              "    </tr>\n",
              "    <tr>\n",
              "      <th>1</th>\n",
              "      <td>(COCA-COLA LIGHT - poco)</td>\n",
              "      <td>(COCA-COLA - poco)</td>\n",
              "      <td>0.785856</td>\n",
              "      <td>0.921335</td>\n",
              "      <td>0.763607</td>\n",
              "      <td>0.971689</td>\n",
              "      <td>1.054653</td>\n",
              "      <td>0.039571</td>\n",
              "      <td>2.778563</td>\n",
              "      <td>0.241991</td>\n",
              "    </tr>\n",
              "    <tr>\n",
              "      <th>2</th>\n",
              "      <td>(JOYA - poco)</td>\n",
              "      <td>(COCA-COLA - poco)</td>\n",
              "      <td>0.811681</td>\n",
              "      <td>0.921335</td>\n",
              "      <td>0.794597</td>\n",
              "      <td>0.978953</td>\n",
              "      <td>1.062537</td>\n",
              "      <td>0.046767</td>\n",
              "      <td>3.737506</td>\n",
              "      <td>0.312535</td>\n",
              "    </tr>\n",
              "    <tr>\n",
              "      <th>3</th>\n",
              "      <td>(COCA-COLA - poco)</td>\n",
              "      <td>(JOYA - poco)</td>\n",
              "      <td>0.921335</td>\n",
              "      <td>0.811681</td>\n",
              "      <td>0.794597</td>\n",
              "      <td>0.862441</td>\n",
              "      <td>1.062537</td>\n",
              "      <td>0.046767</td>\n",
              "      <td>1.369005</td>\n",
              "      <td>0.748189</td>\n",
              "    </tr>\n",
              "  </tbody>\n",
              "</table>\n",
              "</div>"
            ],
            "text/plain": [
              "                antecedents               consequents  antecedent support  \\\n",
              "0        (COCA-COLA - poco)  (COCA-COLA LIGHT - poco)            0.921335   \n",
              "1  (COCA-COLA LIGHT - poco)        (COCA-COLA - poco)            0.785856   \n",
              "2             (JOYA - poco)        (COCA-COLA - poco)            0.811681   \n",
              "3        (COCA-COLA - poco)             (JOYA - poco)            0.921335   \n",
              "\n",
              "   consequent support   support  confidence      lift  leverage  conviction  \\\n",
              "0            0.785856  0.763607    0.828806  1.054653  0.039571    1.250880   \n",
              "1            0.921335  0.763607    0.971689  1.054653  0.039571    2.778563   \n",
              "2            0.921335  0.794597    0.978953  1.062537  0.046767    3.737506   \n",
              "3            0.811681  0.794597    0.862441  1.062537  0.046767    1.369005   \n",
              "\n",
              "   zhangs_metric  \n",
              "0       0.658752  \n",
              "1       0.241991  \n",
              "2       0.312535  \n",
              "3       0.748189  "
            ]
          },
          "execution_count": 440,
          "metadata": {},
          "output_type": "execute_result"
        }
      ],
      "source": [
        "rules2[:]"
      ]
    },
    {
      "cell_type": "markdown",
      "metadata": {
        "id": "7VnbZ4foS8S6"
      },
      "source": [
        "## Evaluación de Modelos"
      ]
    },
    {
      "cell_type": "markdown",
      "metadata": {
        "id": "Bqz-Q_CVe3IB"
      },
      "source": [
        "Obtenemos resultados sino identicos muy similares, con ligeras variaciones que las primeras muestras solo dse detectan con variaciones en el orden, pero no con el valor de cada atributo respecto a su renglon, por lo tanto ambos algoritmos nos dan resultados de confianza y no hay uno mejor que otro para este caso en particular."
      ]
    },
    {
      "cell_type": "markdown",
      "metadata": {
        "id": "dCL7aN3LfUWM"
      },
      "source": [
        "## Evaluación de Resultados"
      ]
    },
    {
      "cell_type": "markdown",
      "metadata": {
        "id": "MurUCx4QfYiE"
      },
      "source": [
        "Los resultados indican que los compradores tienen un consumo mayor en temporadas frías coomo son el invierno o temporadas calidas en primavera para manejar la temperatura, por ende hay que enfocarnos más en las temporadas calidas que se combate el calor con los liquidos, así como en el invierno por la cantidad de fisestas presentes que hacen que aumente el consumo."
      ]
    }
  ],
  "metadata": {
    "colab": {
      "include_colab_link": true,
      "provenance": []
    },
    "kernelspec": {
      "display_name": ".venv",
      "language": "python",
      "name": "python3"
    },
    "language_info": {
      "codemirror_mode": {
        "name": "ipython",
        "version": 3
      },
      "file_extension": ".py",
      "mimetype": "text/x-python",
      "name": "python",
      "nbconvert_exporter": "python",
      "pygments_lexer": "ipython3",
      "version": "3.11.9"
    }
  },
  "nbformat": 4,
  "nbformat_minor": 0
}
